{
 "cells": [
  {
   "cell_type": "markdown",
   "metadata": {},
   "source": [
    "## Imports"
   ]
  },
  {
   "cell_type": "code",
   "execution_count": null,
   "metadata": {},
   "outputs": [],
   "source": [
    "import os\n",
    "import random\n",
    "import pandas as pd\n",
    "import numpy as np\n",
    "from datetime import datetime\n",
    "from collections import Counter\n",
    "from IPython.display import display, IFrame\n",
    "\n",
    "from plotly.offline import iplot, init_notebook_mode\n",
    "import plotly.graph_objs as go\n",
    "init_notebook_mode()\n",
    "\n",
    "import mapboxgl.utils as mu\n",
    "from mapboxgl.viz import CircleViz, HeatmapViz\n",
    "token = os.environ['MAPBOX_ACCESS_TOKEN']\n",
    "\n",
    "from exif import Image as eImage\n",
    "from PIL import Image as pImage\n",
    "from PIL import ImageEnhance"
   ]
  },
  {
   "cell_type": "code",
   "execution_count": null,
   "metadata": {},
   "outputs": [],
   "source": [
    "album_folder = '/Users/matteoferla/Photos/somewhere'\n",
    "album_name = 'Somewhere'"
   ]
  },
  {
   "cell_type": "markdown",
   "metadata": {},
   "source": [
    "## Pandas of metadata\n",
    "\n",
    "My camera has the following (`dir(img)`):\n",
    "\n",
    "    ['_exif_ifd_pointer', '_gps_ifd_pointer', '_interoperability_ifd_Pointer', '_segments', 'artist', 'cfa_pattern', 'color_space', 'components_configuration', 'compressed_bits_per_pixel', 'compression', 'contrast', 'copyright', 'custom_rendered', 'datetime', 'datetime_digitized', 'datetime_original', 'exif_version', 'exposure_bias_value', 'exposure_mode', 'exposure_program', 'exposure_time', 'f_number', 'file_source', 'flash', 'flashpix_version', 'focal_length', 'focal_length_in_35mm_film', 'gain_control', 'get', 'get_file', 'gps_altitude', 'gps_altitude_ref', 'gps_datestamp', 'gps_latitude', 'gps_latitude_ref', 'gps_longitude', 'gps_longitude_ref', 'gps_map_datum', 'gps_satellites', 'gps_timestamp', 'gps_version_id', 'has_exif', 'jpeg_interchange_format', 'jpeg_interchange_format_length', 'light_source', 'make', 'maker_note', 'max_aperture_value', 'metering_mode', 'model', 'orientation', 'photographic_sensitivity', 'pixel_x_dimension', 'pixel_y_dimension', 'recommended_exposure_index', 'resolution_unit', 'saturation', 'scene_capture_type', 'scene_type', 'sensing_method', 'sensitivity_type', 'sharpness', 'software', 'subject_distance_range', 'subsec_time', 'subsec_time_digitized', 'subsec_time_original', 'user_comment', 'white_balance', 'x_resolution', 'y_and_c_positioning', 'y_resolution']"
   ]
  },
  {
   "cell_type": "code",
   "execution_count": null,
   "metadata": {},
   "outputs": [],
   "source": [
    "dex = []\n",
    "\n",
    "\n",
    "def get_metadata(file:str, folder:str):\n",
    "    img = eImage(open(os.path.join(folder, file), 'rb'))\n",
    "    d = dict(file=file,\n",
    "            gps_version_id=img.gps_version_id,\n",
    "            focal_length=img.focal_length,\n",
    "            exposure_time=img.exposure_time,\n",
    "            f_number=img.f_number,\n",
    "             datetime=datetime.strptime(img.datetime, '%Y:%m:%d %H:%M:%S')\n",
    "           )\n",
    "    try:\n",
    "        convert = lambda x: x[0]+x[1]/60+x[2]/3600\n",
    "        d['gps_longitude']=convert(img.gps_longitude)\n",
    "        d['gps_latitude']=convert(img.gps_latitude)\n",
    "    except:\n",
    "        pass\n",
    "    return d\n",
    "        \n",
    "data = pd.DataFrame.from_records(\n",
    "                                [get_metadata(file, album_folder) for file in os.listdir(album_folder) if '.jpg' in file.lower()]\n",
    "                                )\n",
    "display(data.head())\n",
    "#data.to_pickle(album_name+'_photos.p')"
   ]
  },
  {
   "cell_type": "markdown",
   "metadata": {},
   "source": [
    "### Map"
   ]
  },
  {
   "cell_type": "code",
   "execution_count": null,
   "metadata": {},
   "outputs": [],
   "source": [
    "subdata = data.loc[~data.gps_longitude.isna()]\n",
    "\n",
    "c = Counter([(round(row.gps_latitude, 3), -round(row.gps_longitude, 3)) for i, row in subdata.iterrows()]).most_common()\n",
    "print('Most popular spot', c[0])\n",
    "\n",
    "histo = pd.DataFrame.from_records(map(lambda d: {'lat': d[0][0], 'lon': d[0][1], 'counts': d[1]}, c))\n",
    "\n",
    "print('Length', len(histo))\n",
    "#display(histo)\n",
    "\n",
    "\n",
    "####### Plot\n",
    "points = mu.df_to_geojson(histo, lat='lat', lon='lon', precision=3)\n",
    "\n",
    "## default way\n",
    "breaks = mu.scale_between(0.1, c[0][1], 8)\n",
    "## manual way\n",
    "#breaks = [1, 2, 3, 4, 5, 20, 50, 80]\n",
    "## fancy way\n",
    "#breaks = [histo.counts.quantile(q=x*0.2) for x in range(0, 5)]\n",
    "\n",
    "#Create a heatmap \n",
    "print('centre', histo.lat.mean(), histo.lon.mean())\n",
    "HeatmapViz(points, \n",
    "           access_token=token,\n",
    "           weight_property=\"counts\",\n",
    "           weight_stops=mu.create_weight_stops(breaks),\n",
    "           color_stops=mu.create_color_stops(breaks, colors='Spectral'),\n",
    "           radius_stops=mu.create_radius_stops(breaks, 1, 100),\n",
    "           opacity=0.8,\n",
    "           center=(histo.lon.mean(), histo.lat.mean()),\n",
    "           zoom=6\n",
    "          ).show()"
   ]
  },
  {
   "cell_type": "markdown",
   "source": [
    "Other graphs"
   ],
   "metadata": {
    "collapsed": false,
    "pycharm": {
     "name": "#%% md\n"
    }
   }
  },
  {
   "cell_type": "code",
   "execution_count": null,
   "outputs": [],
   "source": [
    "## FOCAL LENGTH HISTOGRAM\n",
    "\n",
    "c = Counter(data['focal_length'])\n",
    "ci = sorted(c.keys())\n",
    "# Manual hack to determine lens by focal length\n",
    "prime = [40]\n",
    "ultra = [k for k in ci if k < 18]\n",
    "kit = [k for k in ci if k > 16 and k != 40]\n",
    "\n",
    "#plot\n",
    "iplot({'data': [go.Bar(x=prime,\n",
    "                       y=[c[i] for i in prime],\n",
    "                       name='Prime lens',\n",
    "                       marker_color='#ffdb58'\n",
    "                          ),\n",
    "                go.Bar(x=kit,\n",
    "                       y=[c[i] for i in kit],\n",
    "                       name='Kit lens',\n",
    "                       marker_color='#ff7f50'\n",
    "                          ),\n",
    "                go.Bar(x=ultra,\n",
    "                       y=[c[i] for i in ultra],\n",
    "                       name='Ultrawide angle lens',\n",
    "                       marker_color='#008080'\n",
    "                          )\n",
    "               ],\n",
    "       'layout': dict(title='Focal length',\n",
    "                      xaxis={'title': 'Focal length [mm]'},\n",
    "                      yaxis={'title': 'N photos in 1 mm bin'},\n",
    "                      bargap=0)\n",
    "      })"
   ],
   "metadata": {
    "collapsed": false,
    "pycharm": {
     "name": "#%%\n"
    }
   }
  },
  {
   "cell_type": "code",
   "execution_count": null,
   "outputs": [],
   "source": [
    "## Time of day\n",
    "\n",
    "def hr2angle(hr):\n",
    "    return (hr * 15) % 360\n",
    "\n",
    "def hr_str(hr):\n",
    "    # Normalize hr to be between 1 and 12\n",
    "    hr_str = str(((hr-1) % 12) + 1)\n",
    "    suffix = ' AM' if (hr % 24) < 12 else ' PM'\n",
    "    return hr_str + suffix\n",
    "\n",
    "h = data.datetime.apply(lambda x: x.hour)\n",
    "c = Counter(h)\n",
    "\n",
    "fig = go.Figure(data=\n",
    "    go.Barpolar(\n",
    "        r = list(c.values()),\n",
    "        theta = [k * 360/24 for k in c.keys()]\n",
    "    ))\n",
    "\n",
    "fig.update_layout(showlegend=False,\n",
    "                  polar=dict(angularaxis=dict(rotation=-90,\n",
    "                                              direction=\"clockwise\",\n",
    "                                              tickvals = [hr2angle(hr) for hr in range(24)],\n",
    "                                              ticktext = [hr_str(hr) for hr in range(24)])))\n",
    "\n",
    "fig.show()"
   ],
   "metadata": {
    "collapsed": false,
    "pycharm": {
     "name": "#%%\n"
    }
   }
  },
  {
   "cell_type": "code",
   "execution_count": null,
   "outputs": [],
   "source": [
    "## Exposure\n",
    "\n",
    "c = Counter(data['exposure_time'])\n",
    "keys = sorted(c.keys())\n",
    "iplot({'data': [go.Scatter(x=[f'{round(k*10000)/10} ms' for k in keys],\n",
    "                       y=[c[k] for k in keys],\n",
    "                       mode='markers+lines'\n",
    "                      )\n",
    "               ],\n",
    "       'layout': dict(title='Distribution of exposure time', xaxis=dict(title='Exposure time'), yaxis=dict(title='Counts'))\n",
    "      })\n"
   ],
   "metadata": {
    "collapsed": false,
    "pycharm": {
     "name": "#%%\n"
    }
   }
  },
  {
   "cell_type": "markdown",
   "source": [
    "Image merge. This is very very crude and could be done a lot better.\n",
    "One issue is the orientation."
   ],
   "metadata": {
    "collapsed": false,
    "pycharm": {
     "name": "#%% md\n"
    }
   }
  },
  {
   "cell_type": "code",
   "execution_count": null,
   "outputs": [],
   "source": [
    "n_in_collage = 10\n",
    "n_collages = 10\n",
    "\n",
    "\n",
    "\n",
    "for i in range(n_collages):\n",
    "    mean = np.zeros((4000, 6000, 3))\n",
    "    n = 0\n",
    "    files = os.listdir(album_folder)\n",
    "    random.shuffle(files)\n",
    "    for file in files:\n",
    "        if '.jpg' not in file.lower():\n",
    "            continue\n",
    "        print(file)\n",
    "        # check orientation\n",
    "        img_meta = eImage(open(os.path.join(album_folder, file), 'rb'))\n",
    "        if str(img_meta.orientation) != 'Orientation.TOP_LEFT':\n",
    "            continue\n",
    "        # open\n",
    "        img = pImage.open(os.path.join(album_folder, file))\n",
    "        a = np.asarray(img)\n",
    "        if a.shape[0] == 4000:\n",
    "            mean = np.add(mean, a)\n",
    "            n += 1\n",
    "        if n > n_in_collage:\n",
    "            break\n",
    "    mean = (mean / n).astype(np.uint8)\n",
    "    img = pImage.fromarray(mean)\n",
    "    img = ImageEnhance.Color(img).enhance(10)\n",
    "    img.show()\n",
    "    img.save(f'collage_{i}.jpg')"
   ],
   "metadata": {
    "collapsed": false,
    "pycharm": {
     "name": "#%%\n"
    }
   }
  }
 ],
 "metadata": {
  "kernelspec": {
   "display_name": "Python 3",
   "language": "python",
   "name": "python3"
  },
  "language_info": {
   "codemirror_mode": {
    "name": "ipython",
    "version": 3
   },
   "file_extension": ".py",
   "mimetype": "text/x-python",
   "name": "python",
   "nbconvert_exporter": "python",
   "pygments_lexer": "ipython3",
   "version": "3.7.5"
  },
  "pycharm": {
   "stem_cell": {
    "cell_type": "raw",
    "source": [],
    "metadata": {
     "collapsed": false
    }
   }
  }
 },
 "nbformat": 4,
 "nbformat_minor": 2
}